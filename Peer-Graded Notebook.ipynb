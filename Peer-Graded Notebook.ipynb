{
    "cells": [
        {
            "cell_type": "markdown",
            "metadata": {
                "collapsed": true
            },
            "source": "# My Jupyter Notebook on IBM Watson Studio"
        },
        {
            "cell_type": "markdown",
            "metadata": {},
            "source": "**Armen Haddad**\n\nBS in CS Student / Aspiring Data Engineer"
        },
        {
            "cell_type": "markdown",
            "metadata": {},
            "source": "*it represents a sweet combination of coding, mathematics and Human interaction*"
        },
        {
            "cell_type": "markdown",
            "metadata": {},
            "source": "### A Simple code that shows the square root of 8"
        },
        {
            "cell_type": "code",
            "execution_count": 1,
            "metadata": {
                "scrolled": true
            },
            "outputs": [
                {
                    "data": {
                        "text/plain": "64"
                    },
                    "execution_count": 1,
                    "metadata": {},
                    "output_type": "execute_result"
                }
            ],
            "source": "8 * 8"
        },
        {
            "cell_type": "markdown",
            "metadata": {},
            "source": "---------------\n\nConclusion:\n\n* 8 times 8 yields 64.\n* In other words, 8 ^ 2.\n1. 64\n2. 64\n\n| 8    | 8    |\n| --- | --- |\n| 64   | 64   |\n\n\n[as shown here](https://www.multiplicationtable.net/8-times-table)\n\n![or here](https://upload.wikimedia.org/wikipedia/commons/thumb/8/83/Bundesstra%C3%9Fe_64_number.svg/1200px-Bundesstra%C3%9Fe_64_number.svg.png)\n\nwhere the `*` in the `8 * 8` is a multiplication!\n\n> 8 in turn is 4 * 2\n> 4 is 2 * 2\n> 2 is 2 * 1\n\n~~ it is fun right! ~~"
        }
    ],
    "metadata": {
        "kernelspec": {
            "display_name": "Python 3.7",
            "language": "python",
            "name": "python3"
        },
        "language_info": {
            "codemirror_mode": {
                "name": "ipython",
                "version": 3
            },
            "file_extension": ".py",
            "mimetype": "text/x-python",
            "name": "python",
            "nbconvert_exporter": "python",
            "pygments_lexer": "ipython3",
            "version": "3.7.9"
        }
    },
    "nbformat": 4,
    "nbformat_minor": 1
}