{
    "cells": [
        {
            "cell_type": "markdown",
            "metadata": {},
            "source": "# Hey\n## Wie ghets?"
        },
        {
            "cell_type": "markdown",
            "metadata": {
                "collapsed": true
            },
            "source": "| Header | Header | Header |\n| ------ | ------ | ------ |\n| cell | cell | cell |\n| ------ | ------ | ------ |\n| cell | cell | cell |\n| ------ | ------ | ------ |\n| cell | cell | cell |\n| ------ | ------ | ------ |\n| cell | cell | cell |"
        },
        {
            "cell_type": "code",
            "execution_count": 2,
            "metadata": {},
            "outputs": [
                {
                    "data": {
                        "text/plain": "11"
                    },
                    "execution_count": 2,
                    "metadata": {},
                    "output_type": "execute_result"
                }
            ],
            "source": "5+6"
        }
    ],
    "metadata": {
        "kernelspec": {
            "display_name": "Python 3.7",
            "language": "python",
            "name": "python3"
        },
        "language_info": {
            "codemirror_mode": {
                "name": "ipython",
                "version": 3
            },
            "file_extension": ".py",
            "mimetype": "text/x-python",
            "name": "python",
            "nbconvert_exporter": "python",
            "pygments_lexer": "ipython3",
            "version": "3.7.9"
        }
    },
    "nbformat": 4,
    "nbformat_minor": 1
}